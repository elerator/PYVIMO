{
 "cells": [
  {
   "cell_type": "code",
   "execution_count": 3,
   "metadata": {
    "collapsed": true,
    "scrolled": true
   },
   "outputs": [],
   "source": [
    "import sys\n",
    "import io\n",
    "from threading import Thread\n",
    "from time import sleep\n",
    "from io import BytesIO \n",
    "from rempy import *\n",
    "import io\n",
    "from IPython.display import clear_output"
   ]
  },
  {
   "cell_type": "code",
   "execution_count": 4,
   "metadata": {
    "collapsed": true,
    "scrolled": true
   },
   "outputs": [],
   "source": [
    "def run_motion_processing(my_buffer, infile, outfile, server):\n",
    "    command = RemotePython.assemble_command(\"motob = ComputeMotion('{}','{}')\",[infile,outfile])\n",
    "    rem = RemotePython(stream = my_buffer, server = server) \n",
    "    rem.fast_command(command)\n",
    "    return rem.long_command(\"motob.to_file()\", expectation=\"total_time.*\")"
   ]
  },
  {
   "cell_type": "code",
   "execution_count": 5,
   "metadata": {
    "collapsed": true,
    "scrolled": true
   },
   "outputs": [],
   "source": [
    "def start_thread(buffer, infile, outfile, server):\n",
    "    thread = Thread(target = run_motion_processing, args = (buffer,infile,outfile,server, ))\n",
    "    thread.start()\n",
    "    return thread"
   ]
  },
  {
   "cell_type": "code",
   "execution_count": null,
   "metadata": {
    "scrolled": false
   },
   "outputs": [
    {
     "name": "stdout",
     "output_type": "stream",
     "text": [
      "\n",
      "This is a Compute server of the MPI/CBS.\n",
      "\n",
      " OS       : Ubuntu 16.04 (Generation 5), Kernel 4.15.0-36\n",
      " Hardware : amd64, 1.48 TB, Intel Xeon CPU E5-4650L 0 @ 2.60GHz\n",
      " Services : ComputeLinuxIT \n",
      "\n",
      "Important links:\n",
      "\n",
      " The ticket system in case of problems  : https://tickets.cbs.mpg.de\n",
      " Overview over the institute's services : http://portal.cbs.mpg.de\n",
      "\n",
      "This is a compute server of the central IT department. Hints:\n",
      "   * There's no local storage. Use /data/... !\n",
      "   * This server is restarted every first Wednesday each month.\n",
      "   * Computation time is shared fairly among all connected users.\n",
      "\n",
      "\u001b]0;gerstenberger@saga: ~\u0007gerstenberger@saga:~ > python3.5\n",
      "python3.5\n",
      "Python 3.5.2 (default, Nov 23 2017, 16:37:01) \n",
      "[GCC 5.4.0 20160609] on linux\n",
      "Type \"help\", \"copyright\", \"credits\" or \"license\" for more information.\n",
      ">>> from python_scripts.MPI_Data_Processing.mot import *\n",
      "from python_scripts.MPI_Data_Processing.mot import *\n",
      ">>> motob = ComputeMotion('/data/p_01888/Databook_cleaning/Video/Pilot_34/coSMIC_all_P34_C4.wmv','/data/pt_01888/motionData/coSMIC_all_P34_C4.mot')\n",
      "_all_P34_C4.wmv','/data/pt_01888/motionData/coSMIC_all_P34_C4.mot')34/coSMIC \n",
      ">>> motob.to_file()\n",
      "motob.to_file()\n",
      "Estimated time to compute 49850 pairs: 8293.515007197857 s \n",
      "## Completed 0.0160481444332999% ##\n",
      "Estimated time to compute 49850 pairs: 5934.067362546921 s \n",
      "## Completed 0.1765295887662989% ##\n",
      "sucessfully written\n",
      "Estimated time to compute 49850 pairs: 6202.887536585331 s \n",
      "## Completed 0.21664994984954863% ##\n",
      "Estimated time to compute 49850 pairs: 6582.930581271648 s \n",
      "## Completed 0.37713139418254765% ##\n",
      "sucessfully written\n",
      "Estimated time to compute 49850 pairs: 5790.277650952339 s \n",
      "## Completed 0.4172517552657974% ##\n",
      "\n",
      "---------------------------------------------\n",
      "Options: \n",
      "1: end proccess\n",
      "2: enter integer to change to respective server\n"
     ]
    }
   ],
   "source": [
    "#my_buffer = StringIO()#BytesIO()\n",
    "\n",
    "threads = []\n",
    "buffers = []\n",
    "\n",
    "infiles = ['/data/p_01888/Databook_cleaning/Video/Pilot_34/coSMIC_all_P34_C1.wmv',\n",
    "           '/data/p_01888/Databook_cleaning/Video/Pilot_34/coSMIC_all_P34_C2.wmv',\n",
    "           '/data/p_01888/Databook_cleaning/Video/Pilot_34/coSMIC_all_P34_C3.wmv',\n",
    "           '/data/p_01888/Databook_cleaning/Video/Pilot_34/coSMIC_all_P34_C4.wmv'\n",
    "          ]\n",
    "\n",
    "outfiles = ['/data/pt_01888/motionData/coSMIC_all_P34_C1.mot',\n",
    "            '/data/pt_01888/motionData/coSMIC_all_P34_C2.mot',\n",
    "            '/data/pt_01888/motionData/coSMIC_all_P34_C3.mot',\n",
    "            '/data/pt_01888/motionData/coSMIC_all_P34_C4.mot'\n",
    "           ]\n",
    "\n",
    "servers = ['ufo', 'unheilig', 'scooter', 'saga']\n",
    "#servers = ['ufo', 'unheilig', 'berg', 'himbeere', 'rosmarin', 'dinkel', 'erbse', 'rilke' ]\n",
    "#servers = [\"rosmarin\",\"himbeere\",\"madonna\",\"spliff\", \"unheilig\", \"erbse\"]\n",
    "#servers = [\"dinkel\",\"berg\",\"springsteen\",\"roxette\", \"rihanna\", \"rilke\"]\n",
    "\n",
    "for infile, outfile, server in zip(infiles, outfiles, servers):\n",
    "    my_buffer = io.StringIO()\n",
    "    thread = start_thread(my_buffer, infile, outfile, server)\n",
    "    threads.append(thread)\n",
    "    buffers.append(my_buffer)\n",
    "\n",
    "    \n",
    "current_buf = 0\n",
    "try:\n",
    "    while True:\n",
    "        clear_output()\n",
    "        print(buffers[current_buf].getvalue())\n",
    "        print(\"---------------------------------------------\")\n",
    "        try:\n",
    "            time.sleep(0.5)\n",
    "            print(\"Options: \")\n",
    "            print(\"1: end proccess\")\n",
    "            print(\"2: enter integer to change to respective server\")\n",
    "            user_command = input('Choose your option')\n",
    "            try:\n",
    "                if(int(user_command)>=0 and int(user_command)<len(servers)):\n",
    "                    current_buf = int(user_command)\n",
    "            except:\n",
    "                pass\n",
    "            if(user_command == \"end\"): threads[current_buf].abort_command()\n",
    "        except:\n",
    "            pass\n",
    "except KeyboardInterrupt:\n",
    "    pass\n",
    "\n",
    "thread.join()\n",
    "print(\"All threads finished\")"
   ]
  },
  {
   "cell_type": "code",
   "execution_count": null,
   "metadata": {
    "collapsed": true
   },
   "outputs": [],
   "source": []
  }
 ],
 "metadata": {
  "kernelspec": {
   "display_name": "Python [default]",
   "language": "python",
   "name": "python3"
  },
  "language_info": {
   "codemirror_mode": {
    "name": "ipython",
    "version": 3
   },
   "file_extension": ".py",
   "mimetype": "text/x-python",
   "name": "python",
   "nbconvert_exporter": "python",
   "pygments_lexer": "ipython3",
   "version": "3.6.3"
  }
 },
 "nbformat": 4,
 "nbformat_minor": 2
}
